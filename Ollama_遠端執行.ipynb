{
  "cells": [
    {
      "cell_type": "markdown",
      "metadata": {
        "id": "view-in-github",
        "colab_type": "text"
      },
      "source": [
        "<a href=\"https://colab.research.google.com/github/soaring0616/some_stuff/blob/main/Ollama_%E9%81%A0%E7%AB%AF%E5%9F%B7%E8%A1%8C.ipynb\" target=\"_parent\"><img src=\"https://colab.research.google.com/assets/colab-badge.svg\" alt=\"Open In Colab\"/></a>"
      ]
    },
    {
      "cell_type": "markdown",
      "metadata": {
        "id": "rZ_kAbwCStH2"
      },
      "source": [
        "#教學說明\n",
        "本地主只是讓學生學會如何使用自行部署的 ollama 在雲端以及本地端都可以體驗大型語言模型的魅力"
      ]
    },
    {
      "cell_type": "markdown",
      "metadata": {
        "id": "oIx78_snSmEl"
      },
      "source": [
        "# 前置作業\n",
        "\n",
        "Download and install ollama to the system\n"
      ]
    },
    {
      "cell_type": "code",
      "execution_count": null,
      "metadata": {
        "colab": {
          "base_uri": "https://localhost:8080/"
        },
        "id": "alIJgUyfSzA6",
        "outputId": "4ba15a98-cebe-440d-c639-64dd202c557c"
      },
      "outputs": [
        {
          "name": "stdout",
          "output_type": "stream",
          "text": [
            "  % Total    % Received % Xferd  Average Speed   Time    Time     Time  Current\n",
            "                                 Dload  Upload   Total   Spent    Left  Speed\n",
            "\r  0     0    0     0    0     0      0      0 --:--:-- --:--:-- --:--:--     0>>> Downloading ollama...\n",
            "100  8575    0  8575    0     0  38994      0 --:--:-- --:--:-- --:--:-- 39155\n",
            "############################################################################################# 100.0%\n",
            ">>> Installing ollama to /usr/local/bin...\n",
            ">>> Creating ollama user...\n",
            ">>> Adding ollama user to video group...\n",
            ">>> Adding current user to ollama group...\n",
            ">>> Creating ollama systemd service...\n",
            "WARNING: Unable to detect NVIDIA GPU. Install lspci or lshw to automatically detect and install NVIDIA CUDA drivers.\n",
            ">>> The Ollama API is now available at 127.0.0.1:11434.\n",
            ">>> Install complete. Run \"ollama\" from the command line.\n"
          ]
        }
      ],
      "source": [
        "!curl https://ollama.ai/install.sh | sh"
      ]
    },
    {
      "cell_type": "code",
      "execution_count": null,
      "metadata": {
        "colab": {
          "base_uri": "https://localhost:8080/",
          "height": 75
        },
        "id": "t3ghaj8lXl93",
        "outputId": "d8b4fe22-2f26-4620-bf10-9f48c402867e"
      },
      "outputs": [
        {
          "data": {
            "text/html": [
              "<audio src=\"https://oobabooga.github.io/silence.m4a\" controls>\n"
            ],
            "text/plain": [
              "<IPython.core.display.HTML object>"
            ]
          },
          "metadata": {},
          "output_type": "display_data"
        }
      ],
      "source": [
        "#@title 1. 保持此標籤處於活動狀態，以防止 Colab 斷開您的連接。 { display-mode: \"form\" }\n",
        "\n",
        "#@markdown 在下方出現的音樂播放器上按播放鍵:\n",
        "%%html\n",
        "<audio src=\"https://oobabooga.github.io/silence.m4a\" controls>"
      ]
    },
    {
      "cell_type": "markdown",
      "metadata": {
        "id": "1kgejny1S3fa"
      },
      "source": [
        "使用 ngrok 提供 ollama 一個公開 IP 位置\n"
      ]
    },
    {
      "cell_type": "code",
      "execution_count": null,
      "metadata": {
        "colab": {
          "base_uri": "https://localhost:8080/"
        },
        "id": "Ubs2kmgCTEN6",
        "outputId": "081b8e88-d40d-40cf-ec21-fb9f6418cf1c"
      },
      "outputs": [
        {
          "name": "stdout",
          "output_type": "stream",
          "text": [
            "Requirement already satisfied: aiohttp in /usr/local/lib/python3.10/dist-packages (3.9.3)\n",
            "Collecting pyngrok\n",
            "  Downloading pyngrok-7.1.3-py3-none-any.whl (22 kB)\n",
            "Requirement already satisfied: aiosignal>=1.1.2 in /usr/local/lib/python3.10/dist-packages (from aiohttp) (1.3.1)\n",
            "Requirement already satisfied: attrs>=17.3.0 in /usr/local/lib/python3.10/dist-packages (from aiohttp) (23.2.0)\n",
            "Requirement already satisfied: frozenlist>=1.1.1 in /usr/local/lib/python3.10/dist-packages (from aiohttp) (1.4.1)\n",
            "Requirement already satisfied: multidict<7.0,>=4.5 in /usr/local/lib/python3.10/dist-packages (from aiohttp) (6.0.5)\n",
            "Requirement already satisfied: yarl<2.0,>=1.0 in /usr/local/lib/python3.10/dist-packages (from aiohttp) (1.9.4)\n",
            "Requirement already satisfied: async-timeout<5.0,>=4.0 in /usr/local/lib/python3.10/dist-packages (from aiohttp) (4.0.3)\n",
            "Requirement already satisfied: PyYAML>=5.1 in /usr/local/lib/python3.10/dist-packages (from pyngrok) (6.0.1)\n",
            "Requirement already satisfied: idna>=2.0 in /usr/local/lib/python3.10/dist-packages (from yarl<2.0,>=1.0->aiohttp) (3.6)\n",
            "Installing collected packages: pyngrok\n",
            "Successfully installed pyngrok-7.1.3\n"
          ]
        }
      ],
      "source": [
        "!pip install -UUU aiohttp pyngrok"
      ]
    },
    {
      "cell_type": "code",
      "execution_count": null,
      "metadata": {
        "cellView": "form",
        "colab": {
          "background_save": true,
          "base_uri": "https://localhost:8080/"
        },
        "id": "b5wHAPPuTJQQ",
        "outputId": "c039f2f4-ba2e-4089-c0a8-9b88b3c9c208"
      },
      "outputs": [
        {
          "name": "stdout",
          "output_type": "stream",
          "text": [
            ">>> starting ngrok config add-authtoken 2d7e2R***LrhD_6zW5fS29dT3a2hpj28fYU\n",
            "Authtoken saved to configuration file: /root/.config/ngrok/ngrok.yml\n",
            ">>> starting ollama serve\n",
            ">>> starting ollama run phi\n",
            ">>> starting ngrok http --log stderr 11434\n",
            "time=2024-03-02T07:12:03.850Z level=INFO source=images.go:710 msg=\"total blobs: 6\"\n",
            "time=2024-03-02T07:12:03.851Z level=INFO source=images.go:717 msg=\"total unused blobs removed: 0\"\n",
            "time=2024-03-02T07:12:03.851Z level=INFO source=routes.go:1019 msg=\"Listening on 127.0.0.1:11434 (version 0.1.27)\"\n",
            "time=2024-03-02T07:12:03.852Z level=INFO source=payload_common.go:107 msg=\"Extracting dynamic libraries...\"\n",
            "t=2024-03-02T07:12:04+0000 lvl=info msg=\"no configuration paths supplied\"\n",
            "t=2024-03-02T07:12:04+0000 lvl=info msg=\"using configuration at default config path\" path=/root/.config/ngrok/ngrok.yml\n",
            "t=2024-03-02T07:12:04+0000 lvl=info msg=\"open config file\" path=/root/.config/ngrok/ngrok.yml err=nil\n",
            "t=2024-03-02T07:12:04+0000 lvl=info msg=\"starting web service\" obj=web addr=127.0.0.1:4040 allow_hosts=[]\n",
            "t=2024-03-02T07:12:04+0000 lvl=eror msg=\"failed to reconnect session\" obj=tunnels.session obj=csess id=9822ac9ad76b err=\"authentication failed: Your account is limited to 1 simultaneous ngrok agent session.\\nYou can run multiple tunnels on a single agent session using a configuration file.\\nTo learn more, see https://ngrok.com/docs/secure-tunnels/ngrok-agent/reference/config/\\n\\nActive ngrok agent sessions in region 'us':\\n  - ts_2d7dFkWeBe2QfAXNFhWmhtuH7cP (104.196.245.2)\\r\\n\\r\\nERR_NGROK_108\\r\\n\"\n",
            "t=2024-03-02T07:12:04+0000 lvl=eror msg=\"session closing\" obj=tunnels.session err=\"authentication failed: Your account is limited to 1 simultaneous ngrok agent session.\\nYou can run multiple tunnels on a single agent session using a configuration file.\\nTo learn more, see https://ngrok.com/docs/secure-tunnels/ngrok-agent/reference/config/\\n\\nActive ngrok agent sessions in region 'us':\\n  - ts_2d7dFkWeBe2QfAXNFhWmhtuH7cP (104.196.245.2)\\r\\n\\r\\nERR_NGROK_108\\r\\n\"\n",
            "t=2024-03-02T07:12:04+0000 lvl=info msg=\"received stop request\" obj=app stopReq=\"{err:{Remote:true Inner:{Inner:0xc0004a1ab0}} restart:false}\"\n",
            "t=2024-03-02T07:12:04+0000 lvl=eror msg=\"terminating with error\" obj=app err=\"authentication failed: Your account is limited to 1 simultaneous ngrok agent session.\\nYou can run multiple tunnels on a single agent session using a configuration file.\\nTo learn more, see https://ngrok.com/docs/secure-tunnels/ngrok-agent/reference/config/\\n\\nActive ngrok agent sessions in region 'us':\\n  - ts_2d7dFkWeBe2QfAXNFhWmhtuH7cP (104.196.245.2)\\r\\n\\r\\nERR_NGROK_108\\r\\n\"\n",
            "t=2024-03-02T07:12:04+0000 lvl=crit msg=\"command failed\" err=\"authentication failed: Your account is limited to 1 simultaneous ngrok agent session.\\nYou can run multiple tunnels on a single agent session using a configuration file.\\nTo learn more, see https://ngrok.com/docs/secure-tunnels/ngrok-agent/reference/config/\\n\\nActive ngrok agent sessions in region 'us':\\n  - ts_2d7dFkWeBe2QfAXNFhWmhtuH7cP (104.196.245.2)\\r\\n\\r\\nERR_NGROK_108\\r\\n\"\n",
            "http - start an HTTP tunnel\n",
            "\n",
            "USAGE:\n",
            "ngrok http [address:port | port] [flags]\n",
            "\n",
            "AUTHOR:\n",
            "ngrok - <support@ngrok.com>\n",
            "\n",
            "COMMANDS:\n",
            "config          update or migrate ngrok's configuration file\n",
            "http            start an HTTP tunnel\n",
            "tcp             start a TCP tunnel\n",
            "tunnel          start a tunnel for use with a tunnel-group backen\n",
            "\n",
            "EXAMPLES:\n",
            "ngrok http 80                                                 # secure public URL for port 80 web server\n",
            "ngrok http --domain baz.ngrok.dev 8080                        # port 8080 available at baz.ngrok.dev\n",
            "ngrok tcp 22                                                  # tunnel arbitrary TCP traffic to port 22\n",
            "ngrok http 80 --oauth=google --oauth-allow-email=foo@foo.com  # secure your app with oauth\n",
            "\n",
            "Paid Features:\n",
            "ngrok http 80 --domain mydomain.com                           # run ngrok with your own custom domain\n",
            "ngrok http 80 --allow-cidr 2600:8c00::a03c:91ee:fe69:9695/32  # run ngrok with IP policy restrictions\n",
            "Upgrade your account at https://dashboard.ngrok.com/billing/subscription to access paid features\n",
            "\n",
            "Upgrade your account at https://dashboard.ngrok.com/billing/subscription to access paid features\n",
            "\n",
            "Flags:\n",
            "-h, --help      help for ngrok\n",
            "\n",
            "Use \"ngrok [command] --help\" for more information about a command.\n",
            "\n",
            "ERROR:  authentication failed: Your account is limited to 1 simultaneous ngrok agent session.\n",
            "ERROR:  You can run multiple tunnels on a single agent session using a configuration file.\n",
            "ERROR:  To learn more, see https://ngrok.com/docs/secure-tunnels/ngrok-agent/reference/config/\n",
            "ERROR:\n",
            "ERROR:  Active ngrok agent sessions in region 'us':\n",
            "ERROR:    - ts_2d7dFkWeBe2QfAXNFhWmhtuH7cP (104.196.245.2)\n",
            "ERROR:\n",
            "ERROR:  ERR_NGROK_108\n",
            "ERROR:\n",
            "time=2024-03-02T07:12:12.293Z level=INFO source=payload_common.go:146 msg=\"Dynamic LLM libraries [rocm_v6 cpu_avx2 cuda_v11 cpu cpu_avx rocm_v5]\"\n",
            "time=2024-03-02T07:12:12.294Z level=INFO source=gpu.go:94 msg=\"Detecting GPU type\"\n",
            "time=2024-03-02T07:12:12.294Z level=INFO source=gpu.go:265 msg=\"Searching for GPU management library libnvidia-ml.so\"\n",
            "time=2024-03-02T07:12:12.311Z level=INFO source=gpu.go:311 msg=\"Discovered GPU libraries: []\"\n",
            "time=2024-03-02T07:12:12.312Z level=INFO source=gpu.go:265 msg=\"Searching for GPU management library librocm_smi64.so\"\n",
            "time=2024-03-02T07:12:12.312Z level=INFO source=gpu.go:311 msg=\"Discovered GPU libraries: []\"\n",
            "time=2024-03-02T07:12:12.313Z level=INFO source=cpu_common.go:11 msg=\"CPU has AVX2\"\n",
            "time=2024-03-02T07:12:12.314Z level=INFO source=routes.go:1042 msg=\"no GPU detected\"\n",
            "[GIN] 2024/03/02 - 07:12:12 | 200 |      63.915µs |       127.0.0.1 | HEAD     \"/\"\n",
            "[GIN] 2024/03/02 - 07:12:12 | 200 |     901.827µs |       127.0.0.1 | POST     \"/api/show\"\n",
            "time=2024-03-02T07:12:13.222Z level=INFO source=cpu_common.go:11 msg=\"CPU has AVX2\"\n",
            "time=2024-03-02T07:12:13.223Z level=INFO source=cpu_common.go:11 msg=\"CPU has AVX2\"\n",
            "time=2024-03-02T07:12:13.223Z level=INFO source=llm.go:77 msg=\"GPU not available, falling back to CPU\"\n",
            "time=2024-03-02T07:12:13.225Z level=INFO source=dyn_ext_server.go:90 msg=\"Loading Dynamic llm server: /tmp/ollama3739363599/cpu_avx2/libext_server.so\"\n",
            "time=2024-03-02T07:12:13.225Z level=INFO source=dyn_ext_server.go:150 msg=\"Initializing llama server\"\n",
            "llama_model_loader: loaded meta data with 20 key-value pairs and 325 tensors from /root/.ollama/models/blobs/sha256:04778965089b91318ad61d0995b7e44fad4b9a9f4e049d7be90932bf8812e828 (version GGUF V3 (latest))\n",
            "llama_model_loader: Dumping metadata keys/values. Note: KV overrides do not apply in this output.\n",
            "llama_model_loader: - kv   0:                       general.architecture str              = phi2\n",
            "llama_model_loader: - kv   1:                               general.name str              = Phi2\n",
            "llama_model_loader: - kv   2:                        phi2.context_length u32              = 2048\n",
            "llama_model_loader: - kv   3:                      phi2.embedding_length u32              = 2560\n",
            "llama_model_loader: - kv   4:                   phi2.feed_forward_length u32              = 10240\n",
            "llama_model_loader: - kv   5:                           phi2.block_count u32              = 32\n",
            "llama_model_loader: - kv   6:                  phi2.attention.head_count u32              = 32\n",
            "llama_model_loader: - kv   7:               phi2.attention.head_count_kv u32              = 32\n",
            "llama_model_loader: - kv   8:          phi2.attention.layer_norm_epsilon f32              = 0.000010\n",
            "llama_model_loader: - kv   9:                  phi2.rope.dimension_count u32              = 32\n",
            "llama_model_loader: - kv  10:                          general.file_type u32              = 2\n",
            "llama_model_loader: - kv  11:               tokenizer.ggml.add_bos_token bool             = false\n",
            "llama_model_loader: - kv  12:                       tokenizer.ggml.model str              = gpt2\n",
            "llama_model_loader: - kv  13:                      tokenizer.ggml.tokens arr[str,51200]   = [\"!\", \"\\\"\", \"#\", \"$\", \"%\", \"&\", \"'\", ...\n",
            "llama_model_loader: - kv  14:                  tokenizer.ggml.token_type arr[i32,51200]   = [1, 1, 1, 1, 1, 1, 1, 1, 1, 1, 1, 1, ...\n",
            "llama_model_loader: - kv  15:                      tokenizer.ggml.merges arr[str,50000]   = [\"Ġ t\", \"Ġ a\", \"h e\", \"i n\", \"r e\",...\n",
            "llama_model_loader: - kv  16:                tokenizer.ggml.bos_token_id u32              = 50256\n",
            "llama_model_loader: - kv  17:                tokenizer.ggml.eos_token_id u32              = 50256\n",
            "llama_model_loader: - kv  18:            tokenizer.ggml.unknown_token_id u32              = 50256\n",
            "llama_model_loader: - kv  19:               general.quantization_version u32              = 2\n",
            "llama_model_loader: - type  f32:  195 tensors\n",
            "llama_model_loader: - type q4_0:  129 tensors\n",
            "llama_model_loader: - type q6_K:    1 tensors\n",
            "llm_load_vocab: mismatch in special tokens definition ( 910/51200 vs 944/51200 ).\n",
            "llm_load_print_meta: format           = GGUF V3 (latest)\n",
            "llm_load_print_meta: arch             = phi2\n",
            "llm_load_print_meta: vocab type       = BPE\n",
            "llm_load_print_meta: n_vocab          = 51200\n",
            "llm_load_print_meta: n_merges         = 50000\n",
            "llm_load_print_meta: n_ctx_train      = 2048\n",
            "llm_load_print_meta: n_embd           = 2560\n",
            "llm_load_print_meta: n_head           = 32\n",
            "llm_load_print_meta: n_head_kv        = 32\n",
            "llm_load_print_meta: n_layer          = 32\n",
            "llm_load_print_meta: n_rot            = 32\n",
            "llm_load_print_meta: n_embd_head_k    = 80\n",
            "llm_load_print_meta: n_embd_head_v    = 80\n",
            "llm_load_print_meta: n_gqa            = 1\n",
            "llm_load_print_meta: n_embd_k_gqa     = 2560\n",
            "llm_load_print_meta: n_embd_v_gqa     = 2560\n",
            "llm_load_print_meta: f_norm_eps       = 1.0e-05\n",
            "llm_load_print_meta: f_norm_rms_eps   = 0.0e+00\n",
            "llm_load_print_meta: f_clamp_kqv      = 0.0e+00\n",
            "llm_load_print_meta: f_max_alibi_bias = 0.0e+00\n",
            "llm_load_print_meta: n_ff             = 10240\n",
            "llm_load_print_meta: n_expert         = 0\n",
            "llm_load_print_meta: n_expert_used    = 0\n",
            "llm_load_print_meta: rope scaling     = linear\n",
            "llm_load_print_meta: freq_base_train  = 10000.0\n",
            "llm_load_print_meta: freq_scale_train = 1\n",
            "llm_load_print_meta: n_yarn_orig_ctx  = 2048\n",
            "llm_load_print_meta: rope_finetuned   = unknown\n",
            "llm_load_print_meta: model type       = 3B\n",
            "llm_load_print_meta: model ftype      = Q4_0\n",
            "llm_load_print_meta: model params     = 2.78 B\n",
            "llm_load_print_meta: model size       = 1.49 GiB (4.61 BPW)\n",
            "llm_load_print_meta: general.name     = Phi2\n",
            "llm_load_print_meta: BOS token        = 50256 '<|endoftext|>'\n",
            "llm_load_print_meta: EOS token        = 50256 '<|endoftext|>'\n",
            "llm_load_print_meta: UNK token        = 50256 '<|endoftext|>'\n",
            "llm_load_print_meta: LF token         = 128 'Ä'\n",
            "llm_load_tensors: ggml ctx size =    0.12 MiB\n",
            "llm_load_tensors:        CPU buffer size =  1526.50 MiB\n",
            "...........................................................................................\n",
            "llama_new_context_with_model: n_ctx      = 2048\n",
            "llama_new_context_with_model: freq_base  = 10000.0\n",
            "llama_new_context_with_model: freq_scale = 1\n",
            "llama_kv_cache_init:        CPU KV buffer size =   640.00 MiB\n",
            "llama_new_context_with_model: KV self size  =  640.00 MiB, K (f16):  320.00 MiB, V (f16):  320.00 MiB\n",
            "llama_new_context_with_model:        CPU input buffer size   =    10.02 MiB\n",
            "llama_new_context_with_model:        CPU compute buffer size =   163.00 MiB\n",
            "llama_new_context_with_model: graph splits (measure): 1\n",
            "time=2024-03-02T07:12:15.854Z level=INFO source=dyn_ext_server.go:161 msg=\"Starting llama main loop\"\n",
            "[GIN] 2024/03/02 - 07:12:15 | 200 |  3.535807393s |       127.0.0.1 | POST     \"/api/generate\"\n",
            "\u001b[?25l⠙ \u001b[?25h\u001b[?25l\u001b[2K\u001b[1G⠹ \u001b[?25h\u001b[?25l\u001b[2K\u001b[1G⠸ \u001b[?25h\u001b[?25l\u001b[2K\u001b[1G⠼ \u001b[?25h\u001b[?25l\u001b[2K\u001b[1G⠴ \u001b[?25h\u001b[?25l\u001b[2K\u001b[1G⠦ \u001b[?25h\u001b[?25l\u001b[2K\u001b[1G⠧ \u001b[?25h\u001b[?25l\u001b[2K\u001b[1G⠇ \u001b[?25h\u001b[?25l\u001b[2K\u001b[1G⠏ \u001b[?25h\u001b[?25l\u001b[2K\u001b[1G⠋ \u001b[?25h\u001b[?25l\u001b[2K\u001b[1G⠙ \u001b[?25h\u001b[?25l\u001b[2K\u001b[1G⠹ \u001b[?25h\u001b[?25l\u001b[2K\u001b[1G⠸ \u001b[?25h\u001b[?25l\u001b[2K\u001b[1G⠼ \u001b[?25h\u001b[?25l\u001b[2K\u001b[1G⠴ \u001b[?25h\u001b[?25l\u001b[2K\u001b[1G⠦ \u001b[?25h\u001b[?25l\u001b[2K\u001b[1G⠧ \u001b[?25h\u001b[?25l\u001b[2K\u001b[1G⠇ \u001b[?25h\u001b[?25l\u001b[2K\u001b[1G⠏ \u001b[?25h\u001b[?25l\u001b[2K\u001b[1G⠋ \u001b[?25h\u001b[?25l\u001b[2K\u001b[1G⠙ \u001b[?25h\u001b[?25l\u001b[2K\u001b[1G⠹ \u001b[?25h\u001b[?25l\u001b[2K\u001b[1G⠸ \u001b[?25h\u001b[?25l\u001b[2K\u001b[1G⠼ \u001b[?25h\u001b[?25l\u001b[2K\u001b[1G⠴ \u001b[?25h\u001b[?25l\u001b[2K\u001b[1G⠦ \u001b[?25h\u001b[?25l\u001b[2K\u001b[1G⠧ \u001b[?25h\u001b[?25l\u001b[2K\u001b[1G⠇ \u001b[?25h\u001b[?25l\u001b[2K\u001b[1G⠏ \u001b[?25h\u001b[?25l\u001b[2K\u001b[1G⠋ \u001b[?25h\u001b[?25l\u001b[2K\u001b[1G⠙ \u001b[?25h\u001b[?25l\u001b[2K\u001b[1G⠹ \u001b[?25h\u001b[?25l\u001b[2K\u001b[1G⠸ \u001b[?25h\u001b[?25l\u001b[2K\u001b[1G⠼ \u001b[?25h\u001b[?25l\u001b[2K\u001b[1G⠴ \u001b[?25h\u001b[?25l\u001b[?25l\u001b[2K\u001b[1G\u001b[?25h\u001b[2K\u001b[1G\u001b[?25h\u001b[?25l\u001b[?25h\n"
          ]
        }
      ],
      "source": [
        "#@title 2. 設定遠端 ollama 模型\n",
        "\n",
        "#@markdown 如果不確定 branch 名稱，請填寫「main」或留空。\n",
        "\n",
        "\n",
        "import os\n",
        "import asyncio\n",
        "\n",
        "# 使用 #param 定義參數\n",
        "authtoken = '' #@param {type:\"string\"}\n",
        "ollama_run_command = 'phi' #@param [\"zephyr\", \"phi\", \"mistral\"]\n",
        "\n",
        "# Set LD_LIBRARY_PATH so the system NVIDIA library\n",
        "os.environ.update({'LD_LIBRARY_PATH': '/usr/lib64-nvidia'})\n",
        "\n",
        "async def run_process(cmd):\n",
        "    print('>>> starting', *cmd)\n",
        "    p = await asyncio.subprocess.create_subprocess_exec(\n",
        "        *cmd,\n",
        "        stdout=asyncio.subprocess.PIPE,\n",
        "        stderr=asyncio.subprocess.PIPE,\n",
        "    )\n",
        "\n",
        "    async def pipe(lines):\n",
        "        async for line in lines:\n",
        "            print(line.strip().decode('utf-8'))\n",
        "\n",
        "    await asyncio.gather(\n",
        "        pipe(p.stdout),\n",
        "        pipe(p.stderr),\n",
        "    )\n",
        "\n",
        "# 使用定義的參數\n",
        "await asyncio.gather(\n",
        "    run_process(['ngrok', 'config', 'add-authtoken', authtoken])\n",
        ")\n",
        "\n",
        "await asyncio.gather(\n",
        "    run_process(['ollama', 'serve']),\n",
        "    run_process(['ollama', 'run', ollama_run_command]),\n",
        "    run_process(['ngrok', 'http', '--log', 'stderr', '11434']),\n",
        ")"
      ]
    },
    {
      "cell_type": "markdown",
      "metadata": {
        "id": "jytiOpnAWFs1"
      },
      "source": [
        "## 本機端測試指令\n",
        "```\n",
        "curl https://3087-34-16-151-39.ngrok-free.app/api/generate -d '{\n",
        "  \"model\": \"phi\",\n",
        "  \"prompt\":\"Why is the sky blue?\",\n",
        "}'\n",
        "```"
      ]
    },
    {
      "cell_type": "markdown",
      "metadata": {
        "id": "ncgMYwvmCEiI"
      },
      "source": [
        "複製上述文字內容，於底下，並且修改兩處\n",
        "\n",
        "1. 打上 `%%bash`\n",
        "2. 複製打開的超連結 https://xxxxxxx.app 取代掉原本網址內容"
      ]
    },
    {
      "cell_type": "code",
      "execution_count": null,
      "metadata": {
        "id": "WhlHgfBkmzB4"
      },
      "outputs": [],
      "source": [
        "%%bash\n",
        "curl https://3087-34-16-151-39.ngrok-free.app/api/generate -d '{\n",
        "  \"model\": \"phi\",\n",
        "  \"prompt\":\"Why is the sky blue?\",\n",
        "}'"
      ]
    }
  ],
  "metadata": {
    "colab": {
      "provenance": [],
      "include_colab_link": true
    },
    "kernelspec": {
      "display_name": "Python 3",
      "name": "python3"
    },
    "language_info": {
      "name": "python"
    }
  },
  "nbformat": 4,
  "nbformat_minor": 0
}
